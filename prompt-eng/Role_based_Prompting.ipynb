{
 "cells": [
  {
   "cell_type": "code",
   "execution_count": 1,
   "metadata": {},
   "outputs": [
    {
     "name": "stdout",
     "output_type": "stream",
     "text": [
      "{'model': 'llama3.2:latest', 'prompt': '\\nYou are an AI tutor specializing in machine learning. Explain Explain the concept of Decision Trees and their advantages. in a way that is easy for a beginner to understand, using simple language and real-life analogies.\\n', 'stream': False, 'options': {'temperature': 0.7, 'num_ctx': 200, 'num_predict': 200}}\n",
      "Welcome! I'm excited to help you understand the concept of Decision Trees.\n",
      "\n",
      "**What is a Decision Tree?**\n",
      "\n",
      "Imagine you're at a coffee shop, and you want to order a drink. You have two questions:\n",
      "\n",
      "1. Do you prefer hot or cold drinks?\n",
      "2. What flavor do you like (e.g., vanilla, chocolate, etc.)?\n",
      "\n",
      "A Decision Tree is like a visual map that helps us answer these questions step by step. Each question leads to another one, and we keep answering until we reach the final decision.\n",
      "\n",
      "In the case of our coffee shop example:\n",
      "\n",
      "1. If you prefer hot drinks, go left.\n",
      "2. If you prefer cold drinks, go right.\n",
      "3. If you're on the left path, ask: Do you like vanilla or chocolate?\n",
      "4. If you're on the right path, ask: Do you like vanilla or chocolate?\n",
      "\n",
      "The tree's branches represent each question, and our answers lead us to a specific drink (e.g., hot coffee\n",
      "Time taken: 139.881s\n"
     ]
    }
   ],
   "source": [
    "##\n",
    "## ROLE-BASED PROMPTING\n",
    "##\n",
    "\n",
    "from _pipeline import create_payload, model_req\n",
    "\n",
    "MESSAGE = \"Explain the concept of Decision Trees and their advantages.\"\n",
    "\n",
    "ROLE_BASED_PROMPT = \\\n",
    "f\"\"\"\n",
    "You are an AI tutor specializing in machine learning. Explain {MESSAGE} in a way that is easy for a beginner to understand, using simple language and real-life analogies.\n",
    "\"\"\"\n",
    "\n",
    "PROMPT = ROLE_BASED_PROMPT  \n",
    "\n",
    "payload = create_payload(target=\"ollama\",\n",
    "                         model=\"llama3.2:latest\", \n",
    "                         prompt=PROMPT, \n",
    "                         temperature=0.7, \n",
    "                         num_ctx=200, \n",
    "                         num_predict=200)\n",
    "\n",
    "time, response = model_req(payload=payload)\n",
    "print(response)\n",
    "if time: print(f'Time taken: {time}s')\n"
   ]
  }
 ],
 "metadata": {
  "kernelspec": {
   "display_name": "Python 3",
   "language": "python",
   "name": "python3"
  },
  "language_info": {
   "codemirror_mode": {
    "name": "ipython",
    "version": 3
   },
   "file_extension": ".py",
   "mimetype": "text/x-python",
   "name": "python",
   "nbconvert_exporter": "python",
   "pygments_lexer": "ipython3",
   "version": "3.13.2"
  }
 },
 "nbformat": 4,
 "nbformat_minor": 2
}
