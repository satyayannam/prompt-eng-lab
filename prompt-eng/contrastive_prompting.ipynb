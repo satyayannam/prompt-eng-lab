{
 "cells": [
  {
   "cell_type": "code",
   "execution_count": 1,
   "metadata": {},
   "outputs": [
    {
     "name": "stdout",
     "output_type": "stream",
     "text": [
      "{'model': 'llama3.2:latest', 'prompt': '\\nExplain Explain the concept of Decision Trees and their advantages., but also compare Decision Trees with another machine learning algorithm, such as Neural Networks. Highlight the key differences in terms of interpretability, computation cost, and real-world applications.\\n', 'stream': False, 'options': {'temperature': 0.7, 'num_ctx': 200, 'num_predict': 200}}\n",
      "Decision Trees are a popular machine learning algorithm used for classification and regression tasks. Here's an explanation of the concept, its advantages, and how it compares to Neural Networks:\n",
      "\n",
      "**What is a Decision Tree?**\n",
      "\n",
      "A Decision Tree is a tree-like model that splits data into subsets based on feature values. It starts with a root node representing the entire dataset, and then recursively partitions the data into smaller subsets until each node represents an individual data point or a single class label.\n",
      "\n",
      "**How does it work?**\n",
      "\n",
      "1. The algorithm selects the most informative feature to split the data at each node.\n",
      "2. It creates child nodes based on the selected feature values, splitting the data further.\n",
      "3. This process continues recursively until all data points are assigned to a leaf node representing the predicted class label.\n",
      "4. Each internal node represents an attribute or feature used for splitting.\n",
      "\n",
      "**Types of Decision Trees:**\n",
      "\n",
      "1. **Classification**: Predicting a categorical outcome (e.g., spam vs. non-spam email\n",
      "Time taken: 55.268s\n"
     ]
    }
   ],
   "source": [
    "##\n",
    "## CONTRASTIVE PROMPTING\n",
    "##\n",
    "\n",
    "from _pipeline import create_payload, model_req\n",
    "\n",
    "MESSAGE = \"Explain the concept of Decision Trees and their advantages.\"\n",
    "\n",
    "CONTRASTIVE_PROMPT = \\\n",
    "f\"\"\"\n",
    "Explain {MESSAGE}, but also compare Decision Trees with another machine learning algorithm, such as Neural Networks. Highlight the key differences in terms of interpretability, computation cost, and real-world applications.\n",
    "\"\"\"\n",
    "\n",
    "PROMPT = CONTRASTIVE_PROMPT  \n",
    "\n",
    "payload = create_payload(target=\"ollama\",\n",
    "                         model=\"llama3.2:latest\", \n",
    "                         prompt=PROMPT, \n",
    "                         temperature=0.7, \n",
    "                         num_ctx=200, \n",
    "                         num_predict=200)\n",
    "\n",
    "time, response = model_req(payload=payload)\n",
    "print(response)\n",
    "if time: print(f'Time taken: {time}s')\n"
   ]
  }
 ],
 "metadata": {
  "kernelspec": {
   "display_name": "Python 3",
   "language": "python",
   "name": "python3"
  },
  "language_info": {
   "codemirror_mode": {
    "name": "ipython",
    "version": 3
   },
   "file_extension": ".py",
   "mimetype": "text/x-python",
   "name": "python",
   "nbconvert_exporter": "python",
   "pygments_lexer": "ipython3",
   "version": "3.13.2"
  }
 },
 "nbformat": 4,
 "nbformat_minor": 2
}
