{
 "cells": [
  {
   "cell_type": "markdown",
   "metadata": {},
   "source": [
    "\n",
    "\n"
   ]
  },
  {
   "cell_type": "markdown",
   "metadata": {},
   "source": [
    "# Self Consistency Prompting\n",
    "\n",
    "One of the more advanced techniques in prompt engineering is self-consistency, introduced by `Wang et al. (2022)`. \n",
    "\n",
    "This method seeks to improve upon the traditional greedy decoding typically used in chain-of-thought (CoT) prompting. \n",
    "\n",
    "The core concept involves sampling multiple diverse reasoning paths through few-shot CoT and leveraging these variations to determine the most consistent answer. The technique  enhances the effectiveness of CoT prompting, particularly for tasks requiring arithmetic and commonsense reasoning.\n",
    "\n",
    "## References:\n",
    "* [Wang et al. (2022)](https://arxiv.org/abs/2203.11171)"
   ]
  },
  {
   "cell_type": "markdown",
   "metadata": {},
   "source": [
    "## Running this code on MyBind.org\n",
    "\n",
    "Note: remember that you will need to **adjust CONFIG** with **proper URL and API_KEY**!\n",
    "\n",
    "[![Binder](https://mybinder.org/badge_logo.svg)](https://mybinder.org/v2/gh/GenILab-FAU/prompt-eng/HEAD?urlpath=%2Fdoc%2Ftree%2Fprompt-eng%2Fself_consistency.ipynb)\n",
    "\n"
   ]
  },
  {
   "cell_type": "code",
   "execution_count": 1,
   "metadata": {},
   "outputs": [
    {
     "name": "stdout",
     "output_type": "stream",
     "text": [
      "{'model': 'llama3.2:latest', 'prompt': '\\nGenerate three different versions of the answer to the following question:\\nExplain the concept of Decision Trees and their advantages.\\n\\nEnsure each version is factually correct but presents the explanation in a different style (technical, simple, and analogy-based).\\n', 'stream': False, 'options': {'temperature': 0.7, 'num_ctx': 300, 'num_predict': 300}}\n",
      "Here are three different versions of the explanation:\n",
      "\n",
      "**Technical Version**\n",
      "\n",
      "Decision Trees are a type of supervised learning algorithm used for classification and regression tasks. They consist of a tree-like structure where each internal node represents a feature or attribute, each branch represents a decision rule, and each leaf node represents a class label or target value.\n",
      "\n",
      "The algorithm works by recursively partitioning the data into smaller subsets based on the values of the features. At each node, the algorithm selects the feature that best separates the classes, creating a split. The process continues until all instances belong to a single class, at which point the tree is complete.\n",
      "\n",
      "Decision Trees have several advantages:\n",
      "\n",
      "1. **Interpretability**: Decision Trees provide an interpretable model, allowing users to understand how each decision was made.\n",
      "2. **Handling missing values**: Decision Trees can handle missing values by using imputation or ignoring them altogether.\n",
      "3. **Robustness to noise**: Decision Trees are robust to noisy data and outliers.\n",
      "\n",
      "However, Decision Trees also have some limitations:\n",
      "\n",
      "1. **Overfitting**: Decision Trees can overfit the training data if not regularized properly.\n",
      "2. **Handling high-dimensional data**: Decision Trees may struggle with high-dimensional data due to computational complexity.\n",
      "\n",
      "**Example code in Python using scikit-learn:**\n",
      "\n",
      "```python\n",
      "from sklearn.tree import DecisionTreeClassifier\n",
      "from sklearn.datasets import load_iris\n",
      "\n",
      "# Load iris dataset\n",
      "iris = load_iris()\n",
      "X = iris.data\n",
      "y = iris.target\n",
      "\n",
      "#\n",
      "Time taken: 168.842s\n"
     ]
    }
   ],
   "source": [
    "##\n",
    "## SELF CONSISTENCY PROMPTING\n",
    "##\n",
    "\n",
    "from _pipeline import create_payload, model_req\n",
    "\n",
    "MESSAGE = \"Explain the concept of Decision Trees and their advantages.\"\n",
    "\n",
    "SELF_CONSISTENCY = \\\n",
    "f\"\"\"\n",
    "Generate three different versions of the answer to the following question:\n",
    "{MESSAGE}\n",
    "\n",
    "Ensure each version is factually correct but presents the explanation in a different style (technical, simple, and analogy-based).\n",
    "\"\"\"\n",
    "\n",
    "PROMPT = SELF_CONSISTENCY  \n",
    "\n",
    "payload = create_payload(target=\"ollama\",\n",
    "                         model=\"llama3.2:latest\", \n",
    "                         prompt=PROMPT, \n",
    "                         temperature=0.7, \n",
    "                         num_ctx=300, \n",
    "                         num_predict=300)\n",
    "\n",
    "time, response = model_req(payload=payload)\n",
    "print(response)\n",
    "if time: print(f'Time taken: {time}s')\n"
   ]
  }
 ],
 "metadata": {
  "kernelspec": {
   "display_name": "Python 3",
   "language": "python",
   "name": "python3"
  },
  "language_info": {
   "codemirror_mode": {
    "name": "ipython",
    "version": 3
   },
   "file_extension": ".py",
   "mimetype": "text/x-python",
   "name": "python",
   "nbconvert_exporter": "python",
   "pygments_lexer": "ipython3",
   "version": "3.13.2"
  }
 },
 "nbformat": 4,
 "nbformat_minor": 2
}
