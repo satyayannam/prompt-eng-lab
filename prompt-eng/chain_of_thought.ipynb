{
 "cells": [
  {
   "cell_type": "markdown",
   "metadata": {},
   "source": [
    "\n",
    "\n"
   ]
  },
  {
   "cell_type": "markdown",
   "metadata": {},
   "source": [
    "# Chain-of-Thought Prompting\n",
    "\n",
    "Chain-of-Thought (CoT) prompting enhances complex reasoning by encouraging the model to break down problems into intermediate reasoning steps. When combined with few-shot prompting, it can significantly improve performance on tasks that require multi-step reasoning before arriving at a response.\n",
    "\n",
    "## Automatic Chain-of-Thought (Auto-CoT)\n",
    "\n",
    "Traditionally, using CoT prompting with demonstrations involves manually crafting diverse and effective examples. This manual effort is time-consuming and can lead to less-than-optimal results. To address this, Zhang et al. (2022) introduced Auto-CoT, an automated approach that minimizes manual involvement. Their method uses the prompt “Let’s think step by step” to generate reasoning chains automatically for demonstrations. However, this automatic process is not immune to errors. To reduce the impact of such mistakes, the approach emphasizes the importance of diverse demonstrations.\n",
    "\n",
    "Auto-CoT operates in two main stages:\n",
    "\n",
    "1. **Question Clustering:** Questions from the dataset are grouped into clusters based on similarity or relevance.\n",
    "2. **Demonstration Sampling:** A representative question from each cluster is selected, and its reasoning chain is generated using Zero-Shot-CoT guided by simple heuristics.\n",
    "\n",
    "\n",
    "## References:\n",
    "\n",
    "* (Wei et al. (2022),)[https://arxiv.org/abs/2201.11903]\n",
    "* (OpenAI Documentation for Prompt Engineering)[https://platform.openai.com/docs/guides/prompt-engineering]"
   ]
  },
  {
   "cell_type": "markdown",
   "metadata": {},
   "source": [
    "## Running this code on MyBind.org\n",
    "\n",
    "Note: remember that you will need to **adjust CONFIG** with **proper URL and API_KEY**!\n",
    "\n",
    "[![Binder](https://mybinder.org/badge_logo.svg)](https://mybinder.org/v2/gh/GenILab-FAU/prompt-eng/HEAD?urlpath=%2Fdoc%2Ftree%2Fprompt-eng%2Fchain_of_thought.ipynb)\n"
   ]
  },
  {
   "cell_type": "code",
   "execution_count": 1,
   "metadata": {},
   "outputs": [
    {
     "name": "stdout",
     "output_type": "stream",
     "text": [
      "{'model': 'llama3.2:latest', 'prompt': '\\nA Decision Tree is a flowchart-like structure used for decision-making.\\n\\nStep 1: Start at the root node and check the first condition.\\nStep 2: Follow the branches based on attribute values.\\nStep 3: Keep splitting until a leaf node is reached.\\nStep 4: The final classification or regression result is determined.\\n\\nNow, explain Explain the concept of Decision Trees and their advantages. following this logical breakdown.\\n', 'stream': False, 'options': {'temperature': 0.7, 'num_ctx': 200, 'num_predict': 200}}\n",
      "Let's dive into the concept of Decision Trees and explore their advantages based on the logical breakdown provided:\n",
      "\n",
      "**Concept of Decision Trees**\n",
      "\n",
      "A Decision Tree is a visual representation of a decision-making process that uses attributes or features to classify data into different categories. It's essentially a tree-like structure where each node represents a feature or attribute, and the edges represent the possible values or outcomes.\n",
      "\n",
      "Here's how it works:\n",
      "\n",
      "1. **Start at the root node**: The Decision Tree begins with a single node that represents the overall goal of classification (e.g., customer segmentation).\n",
      "2. **Split nodes**: From this root node, two or more child nodes emerge based on different conditions or criteria (e.g., age, income level). Each child node represents a possible subset of data.\n",
      "3. **Branching**: The Decision Tree branches out to the left and right, depending on whether the feature or attribute is used to split the data into two distinct groups (e.g., one group has an older age and\n",
      "Time taken: 37.359s\n"
     ]
    }
   ],
   "source": [
    "##\n",
    "## CHAIN-OF-THOUGHT  PROMPTING\n",
    "##\n",
    "\n",
    "from _pipeline import create_payload, model_req\n",
    "\n",
    "MESSAGE = \"Explain the concept of Decision Trees and their advantages.\"\n",
    "\n",
    "CHAIN_OF_THOUGHT = f\"\"\"\n",
    "A Decision Tree is a flowchart-like structure used for decision-making.\n",
    "\n",
    "Step 1: Start at the root node and check the first condition.\n",
    "Step 2: Follow the branches based on attribute values.\n",
    "Step 3: Keep splitting until a leaf node is reached.\n",
    "Step 4: The final classification or regression result is determined.\n",
    "\n",
    "Now, explain {MESSAGE} following this logical breakdown.\n",
    "\"\"\"\n",
    "\n",
    "PROMPT = CHAIN_OF_THOUGHT  \n",
    "\n",
    "payload = create_payload(target=\"ollama\",\n",
    "                         model=\"llama3.2:latest\", \n",
    "                         prompt=PROMPT, \n",
    "                         temperature=0.7, \n",
    "                         num_ctx=200, \n",
    "                         num_predict=200)\n",
    "\n",
    "time, response = model_req(payload=payload)\n",
    "print(response)\n",
    "if time: print(f'Time taken: {time}s')\n"
   ]
  }
 ],
 "metadata": {
  "kernelspec": {
   "display_name": "Python 3",
   "language": "python",
   "name": "python3"
  },
  "language_info": {
   "codemirror_mode": {
    "name": "ipython",
    "version": 3
   },
   "file_extension": ".py",
   "mimetype": "text/x-python",
   "name": "python",
   "nbconvert_exporter": "python",
   "pygments_lexer": "ipython3",
   "version": "3.13.2"
  }
 },
 "nbformat": 4,
 "nbformat_minor": 2
}
