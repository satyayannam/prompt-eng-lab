{
 "cells": [
  {
   "cell_type": "markdown",
   "metadata": {},
   "source": [
    "\n",
    "\n"
   ]
  },
  {
   "cell_type": "markdown",
   "metadata": {},
   "source": [
    "# Few-Shots Prompting\n",
    "\n",
    "Few-shot prompting can be used as a technique to enable in-context learning where we provide demonstrations in the prompt to steer the model to better performance. The demonstrations serve as conditioning for subsequent examples where we would like the model to generate a response.\n",
    "\n",
    "## References:\n",
    "* [Touvron et al. 2023](https://arxiv.org/pdf/2302.13971.pdf): present few shot properties  when models were scaled to a sufficient size\n",
    "* [Kaplan et al., 2020](https://arxiv.org/abs/2001.08361)\n",
    "* [Brown et al. 2020](https://arxiv.org/abs/2005.14165)\n"
   ]
  },
  {
   "cell_type": "markdown",
   "metadata": {},
   "source": [
    "## Running this code on MyBind.org\n",
    "\n",
    "Note: remember that you will need to **adjust CONFIG** with **proper URL and API_KEY**!\n",
    "\n",
    "[![Binder](https://mybinder.org/badge_logo.svg)](https://mybinder.org/v2/gh/GenILab-FAU/prompt-eng/HEAD?urlpath=%2Fdoc%2Ftree%2Fprompt-eng%2Ffew_shots.ipynb)\n",
    "\n"
   ]
  },
  {
   "cell_type": "code",
   "execution_count": 1,
   "metadata": {},
   "outputs": [
    {
     "name": "stdout",
     "output_type": "stream",
     "text": [
      "{'model': 'llama3.2:latest', 'prompt': '\\nYou are an AI tutor. Answer technical questions in a structured manner. \\n\\nExample:\\nQ: Explain Linear Regression.\\nA: Linear Regression is a supervised learning technique used for predicting continuous values...\\n\\nNow answer:\\nQ: Explain the concept of Decision Trees and their advantages.\\nA: \\n', 'stream': False, 'options': {'temperature': 0.7, 'num_ctx': 200, 'num_predict': 200}}\n",
      "Decision Trees are a type of supervised learning algorithm used for classification and regression tasks in machine learning. Here's an explanation:\n",
      "\n",
      "Decision Trees are tree-like models that break down complex data into smaller, more manageable pieces by recursively partitioning the data into subsets based on certain criteria.\n",
      "\n",
      "The decision-making process in a Decision Tree works as follows:\n",
      "1. The root node represents the input features of the dataset.\n",
      "2. Each branch or edge represents a test on one of the input features to determine which subset of the data is most similar to the instance being predicted.\n",
      "3. When a leaf node is reached, it makes a prediction based on the values in that subset.\n",
      "\n",
      "Decision Trees can be used for classification and regression tasks. They are particularly useful when dealing with datasets that have many categorical or nominal variables.\n",
      "\n",
      "There are different types of Decision Trees:\n",
      "1. Classification Decision Tree: This type of decision tree predicts class labels.\n",
      "2. Regression Decision Tree: This type of decision tree predicts continuous values.\n",
      "\n",
      "However, a single\n",
      "Time taken: 50.533s\n"
     ]
    }
   ],
   "source": [
    "##\n",
    "## FEW SHOT PROMPTING\n",
    "##\n",
    "\n",
    "from _pipeline import create_payload, model_req\n",
    "\n",
    "MESSAGE = \"Explain the concept of Decision Trees and their advantages.\"\n",
    "\n",
    "FEW_SHOT = \\\n",
    "\"\"\"\n",
    "You are an AI tutor. Answer technical questions in a structured manner. \n",
    "\n",
    "Example:\n",
    "Q: Explain Linear Regression.\n",
    "A: Linear Regression is a supervised learning technique used for predicting continuous values...\n",
    "\n",
    "Now answer:\n",
    "Q: {}\n",
    "A: \n",
    "\"\"\".format(MESSAGE)\n",
    "\n",
    "PROMPT = FEW_SHOT  \n",
    "\n",
    "payload = create_payload(target=\"ollama\",\n",
    "                         model=\"llama3.2:latest\", \n",
    "                         prompt=PROMPT, \n",
    "                         temperature=0.7, \n",
    "                         num_ctx=200, \n",
    "                         num_predict=200)\n",
    "\n",
    "time, response = model_req(payload=payload)\n",
    "print(response)\n",
    "if time: print(f'Time taken: {time}s')\n"
   ]
  },
  {
   "cell_type": "markdown",
   "metadata": {},
   "source": [
    "## How to improve it?\n",
    "\n",
    "Following the findings from [Min et al. (2022)](https://arxiv.org/abs/2202.12837), here are a few more tips about demonstrations/exemplars when doing few-shot:\n",
    "\n",
    "* \"the label space and the distribution of the input text specified by the demonstrations are both important (regardless of whether the labels are correct for individual inputs)\"\n",
    "* the format you use also plays a key role in performance, even if you just use random labels, this is much better than no labels at all.\n",
    "* additional results show that selecting random labels from a true distribution of labels (instead of a uniform distribution) also helps."
   ]
  }
 ],
 "metadata": {
  "kernelspec": {
   "display_name": "Python 3",
   "language": "python",
   "name": "python3"
  },
  "language_info": {
   "codemirror_mode": {
    "name": "ipython",
    "version": 3
   },
   "file_extension": ".py",
   "mimetype": "text/x-python",
   "name": "python",
   "nbconvert_exporter": "python",
   "pygments_lexer": "ipython3",
   "version": "3.13.2"
  }
 },
 "nbformat": 4,
 "nbformat_minor": 2
}
