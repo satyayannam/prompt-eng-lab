{
 "cells": [
  {
   "cell_type": "code",
   "execution_count": 1,
   "metadata": {},
   "outputs": [
    {
     "name": "stdout",
     "output_type": "stream",
     "text": [
      "{'model': 'llama3.2:latest', 'prompt': \"\\nLet's go step by step. First, explain what a Decision Tree is in one sentence. Wait for my confirmation before continuing.\\nOnce confirmed, explain how Decision Trees make decisions.\\nThen, wait again before proceeding to the advantages of Decision Trees.\\n\", 'stream': False, 'options': {'temperature': 0.7, 'num_ctx': 200, 'num_predict': 200}}\n",
      "Here's the first sentence:\n",
      "\n",
      "A Decision Tree is a type of supervised learning algorithm that uses a tree-like model to classify data points into predefined categories by making predictions based on the most relevant features at each step.\n",
      "\n",
      "Please confirm before I proceed to explain how Decision Trees make decisions.\n",
      "Time taken: 85.822s\n"
     ]
    }
   ],
   "source": [
    "##\n",
    "## MULTI-TURN PROMPTING\n",
    "##\n",
    "\n",
    "from _pipeline import create_payload, model_req\n",
    "\n",
    "MESSAGE = \"Explain the concept of Decision Trees and their advantages.\"\n",
    "\n",
    "MULTI_TURN_PROMPT = \\\n",
    "f\"\"\"\n",
    "Let's go step by step. First, explain what a Decision Tree is in one sentence. Wait for my confirmation before continuing.\n",
    "Once confirmed, explain how Decision Trees make decisions.\n",
    "Then, wait again before proceeding to the advantages of Decision Trees.\n",
    "\"\"\"\n",
    "\n",
    "PROMPT = MULTI_TURN_PROMPT  \n",
    "\n",
    "payload = create_payload(target=\"ollama\",\n",
    "                         model=\"llama3.2:latest\", \n",
    "                         prompt=PROMPT, \n",
    "                         temperature=0.7, \n",
    "                         num_ctx=200, \n",
    "                         num_predict=200)\n",
    "\n",
    "time, response = model_req(payload=payload)\n",
    "print(response)\n",
    "if time: print(f'Time taken: {time}s')\n"
   ]
  }
 ],
 "metadata": {
  "kernelspec": {
   "display_name": "Python 3",
   "language": "python",
   "name": "python3"
  },
  "language_info": {
   "codemirror_mode": {
    "name": "ipython",
    "version": 3
   },
   "file_extension": ".py",
   "mimetype": "text/x-python",
   "name": "python",
   "nbconvert_exporter": "python",
   "pygments_lexer": "ipython3",
   "version": "3.13.2"
  }
 },
 "nbformat": 4,
 "nbformat_minor": 2
}
